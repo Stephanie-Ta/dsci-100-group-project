{
 "cells": [
  {
   "cell_type": "markdown",
   "id": "6f5c0fab-f948-4bc8-a246-d4f4d141bc67",
   "metadata": {},
   "source": [
    "# Project Proposal: Prediction of Heart Disease Using a Classification Model"
   ]
  },
  {
   "cell_type": "markdown",
   "id": "33a23e2b-dffa-45ba-89f0-fca3f044a92d",
   "metadata": {},
   "source": [
    "Authors: Janie Holzmann, Riley McNair, Stephanie Ta, and Hayden Wai."
   ]
  },
  {
   "cell_type": "markdown",
   "id": "707c4091-9598-48f0-8ca4-2b9dcb79c020",
   "metadata": {},
   "source": [
    "## Introduction\n",
    "\n",
    "Heart disease is the second leading cause of death in Canada, and occurs due to a build up of plaque in a person’s arteries (via [Government of Canada](https://www.canada.ca/en/public-health/services/publications/diseases-conditions/heart-disease-canada.html)). It can lead to a heart attack, heart failure, or death. Many factors can increase a person’s likelihood of getting a heart disease diagnosis, and with this project, we want to answer the question: **Can a person’s age, sex, resting blood pressure, cholesterol, fasting blood sugar, and susceptibility to exercise-induced anginas accurately predict if they will get diagnosed with heart disease?** We will be using a dataset from the Cleveland Clinic Foundation from 1988, which includes these various attributes for 303 patients, and whether or not they were diagnosed with heart disease."
   ]
  },
  {
   "cell_type": "markdown",
   "id": "02edc7e1-520c-42b7-b2ea-a9ea6918ec88",
   "metadata": {},
   "source": [
    "## Methods and Results"
   ]
  },
  {
   "cell_type": "code",
   "execution_count": 1,
   "id": "9db181bd-8cc1-4a3c-bc04-535181f0adc2",
   "metadata": {
    "tags": []
   },
   "outputs": [
    {
     "name": "stderr",
     "output_type": "stream",
     "text": [
      "── \u001b[1mAttaching packages\u001b[22m ─────────────────────────────────────── tidyverse 1.3.1 ──\n",
      "\n",
      "\u001b[32m✔\u001b[39m \u001b[34mggplot2\u001b[39m 3.3.6     \u001b[32m✔\u001b[39m \u001b[34mpurrr  \u001b[39m 0.3.4\n",
      "\u001b[32m✔\u001b[39m \u001b[34mtibble \u001b[39m 3.1.7     \u001b[32m✔\u001b[39m \u001b[34mdplyr  \u001b[39m 1.0.9\n",
      "\u001b[32m✔\u001b[39m \u001b[34mtidyr  \u001b[39m 1.2.0     \u001b[32m✔\u001b[39m \u001b[34mstringr\u001b[39m 1.4.0\n",
      "\u001b[32m✔\u001b[39m \u001b[34mreadr  \u001b[39m 2.1.2     \u001b[32m✔\u001b[39m \u001b[34mforcats\u001b[39m 0.5.1\n",
      "\n",
      "── \u001b[1mConflicts\u001b[22m ────────────────────────────────────────── tidyverse_conflicts() ──\n",
      "\u001b[31m✖\u001b[39m \u001b[34mdplyr\u001b[39m::\u001b[32mfilter()\u001b[39m masks \u001b[34mstats\u001b[39m::filter()\n",
      "\u001b[31m✖\u001b[39m \u001b[34mdplyr\u001b[39m::\u001b[32mlag()\u001b[39m    masks \u001b[34mstats\u001b[39m::lag()\n",
      "\n",
      "── \u001b[1mAttaching packages\u001b[22m ────────────────────────────────────── tidymodels 1.0.0 ──\n",
      "\n",
      "\u001b[32m✔\u001b[39m \u001b[34mbroom       \u001b[39m 1.0.0     \u001b[32m✔\u001b[39m \u001b[34mrsample     \u001b[39m 1.0.0\n",
      "\u001b[32m✔\u001b[39m \u001b[34mdials       \u001b[39m 1.0.0     \u001b[32m✔\u001b[39m \u001b[34mtune        \u001b[39m 1.0.0\n",
      "\u001b[32m✔\u001b[39m \u001b[34minfer       \u001b[39m 1.0.2     \u001b[32m✔\u001b[39m \u001b[34mworkflows   \u001b[39m 1.0.0\n",
      "\u001b[32m✔\u001b[39m \u001b[34mmodeldata   \u001b[39m 1.0.0     \u001b[32m✔\u001b[39m \u001b[34mworkflowsets\u001b[39m 1.0.0\n",
      "\u001b[32m✔\u001b[39m \u001b[34mparsnip     \u001b[39m 1.0.0     \u001b[32m✔\u001b[39m \u001b[34myardstick   \u001b[39m 1.0.0\n",
      "\u001b[32m✔\u001b[39m \u001b[34mrecipes     \u001b[39m 1.0.1     \n",
      "\n",
      "── \u001b[1mConflicts\u001b[22m ───────────────────────────────────────── tidymodels_conflicts() ──\n",
      "\u001b[31m✖\u001b[39m \u001b[34mscales\u001b[39m::\u001b[32mdiscard()\u001b[39m masks \u001b[34mpurrr\u001b[39m::discard()\n",
      "\u001b[31m✖\u001b[39m \u001b[34mdplyr\u001b[39m::\u001b[32mfilter()\u001b[39m   masks \u001b[34mstats\u001b[39m::filter()\n",
      "\u001b[31m✖\u001b[39m \u001b[34mrecipes\u001b[39m::\u001b[32mfixed()\u001b[39m  masks \u001b[34mstringr\u001b[39m::fixed()\n",
      "\u001b[31m✖\u001b[39m \u001b[34mdplyr\u001b[39m::\u001b[32mlag()\u001b[39m      masks \u001b[34mstats\u001b[39m::lag()\n",
      "\u001b[31m✖\u001b[39m \u001b[34myardstick\u001b[39m::\u001b[32mspec()\u001b[39m masks \u001b[34mreadr\u001b[39m::spec()\n",
      "\u001b[31m✖\u001b[39m \u001b[34mrecipes\u001b[39m::\u001b[32mstep()\u001b[39m   masks \u001b[34mstats\u001b[39m::step()\n",
      "\u001b[34m•\u001b[39m Learn how to get started at \u001b[32mhttps://www.tidymodels.org/start/\u001b[39m\n",
      "\n"
     ]
    }
   ],
   "source": [
    "# load packages\n",
    "library(tidyverse) # needed for many functions used for data analysis, such as read_csv(), select(), etc.\n",
    "library(repr) # needed to resize plots\n",
    "library(tidymodels) # needed to split data into training and testing data and to perform classification"
   ]
  },
  {
   "cell_type": "markdown",
   "id": "22f00f3e-6bdc-4adf-bd4e-38ea27354b8b",
   "metadata": {},
   "source": [
    "The dataset can be obtained from UC Irvine's Machine Learning Repository: https://archive.ics.uci.edu/dataset/45/heart+disease via a zip file."
   ]
  },
  {
   "cell_type": "code",
   "execution_count": 2,
   "id": "3c4ca646-7ad7-4777-9fa5-9007f64e46f8",
   "metadata": {},
   "outputs": [
    {
     "data": {
      "text/html": [
       "<table class=\"dataframe\">\n",
       "<caption>A tibble: 5 × 14</caption>\n",
       "<thead>\n",
       "\t<tr><th scope=col>age</th><th scope=col>sex</th><th scope=col>cp</th><th scope=col>trestbps</th><th scope=col>chol</th><th scope=col>fbs</th><th scope=col>restecg</th><th scope=col>thalach</th><th scope=col>exang</th><th scope=col>oldpeak</th><th scope=col>slope</th><th scope=col>ca</th><th scope=col>thal</th><th scope=col>num</th></tr>\n",
       "\t<tr><th scope=col>&lt;dbl&gt;</th><th scope=col>&lt;dbl&gt;</th><th scope=col>&lt;dbl&gt;</th><th scope=col>&lt;dbl&gt;</th><th scope=col>&lt;dbl&gt;</th><th scope=col>&lt;dbl&gt;</th><th scope=col>&lt;dbl&gt;</th><th scope=col>&lt;dbl&gt;</th><th scope=col>&lt;dbl&gt;</th><th scope=col>&lt;dbl&gt;</th><th scope=col>&lt;dbl&gt;</th><th scope=col>&lt;chr&gt;</th><th scope=col>&lt;chr&gt;</th><th scope=col>&lt;dbl&gt;</th></tr>\n",
       "</thead>\n",
       "<tbody>\n",
       "\t<tr><td>63</td><td>1</td><td>1</td><td>145</td><td>233</td><td>1</td><td>2</td><td>150</td><td>0</td><td>2.3</td><td>3</td><td>0.0</td><td>6.0</td><td>0</td></tr>\n",
       "\t<tr><td>67</td><td>1</td><td>4</td><td>160</td><td>286</td><td>0</td><td>2</td><td>108</td><td>1</td><td>1.5</td><td>2</td><td>3.0</td><td>3.0</td><td>2</td></tr>\n",
       "\t<tr><td>67</td><td>1</td><td>4</td><td>120</td><td>229</td><td>0</td><td>2</td><td>129</td><td>1</td><td>2.6</td><td>2</td><td>2.0</td><td>7.0</td><td>1</td></tr>\n",
       "\t<tr><td>37</td><td>1</td><td>3</td><td>130</td><td>250</td><td>0</td><td>0</td><td>187</td><td>0</td><td>3.5</td><td>3</td><td>0.0</td><td>3.0</td><td>0</td></tr>\n",
       "\t<tr><td>41</td><td>0</td><td>2</td><td>130</td><td>204</td><td>0</td><td>2</td><td>172</td><td>0</td><td>1.4</td><td>1</td><td>0.0</td><td>3.0</td><td>0</td></tr>\n",
       "</tbody>\n",
       "</table>\n"
      ],
      "text/latex": [
       "A tibble: 5 × 14\n",
       "\\begin{tabular}{llllllllllllll}\n",
       " age & sex & cp & trestbps & chol & fbs & restecg & thalach & exang & oldpeak & slope & ca & thal & num\\\\\n",
       " <dbl> & <dbl> & <dbl> & <dbl> & <dbl> & <dbl> & <dbl> & <dbl> & <dbl> & <dbl> & <dbl> & <chr> & <chr> & <dbl>\\\\\n",
       "\\hline\n",
       "\t 63 & 1 & 1 & 145 & 233 & 1 & 2 & 150 & 0 & 2.3 & 3 & 0.0 & 6.0 & 0\\\\\n",
       "\t 67 & 1 & 4 & 160 & 286 & 0 & 2 & 108 & 1 & 1.5 & 2 & 3.0 & 3.0 & 2\\\\\n",
       "\t 67 & 1 & 4 & 120 & 229 & 0 & 2 & 129 & 1 & 2.6 & 2 & 2.0 & 7.0 & 1\\\\\n",
       "\t 37 & 1 & 3 & 130 & 250 & 0 & 0 & 187 & 0 & 3.5 & 3 & 0.0 & 3.0 & 0\\\\\n",
       "\t 41 & 0 & 2 & 130 & 204 & 0 & 2 & 172 & 0 & 1.4 & 1 & 0.0 & 3.0 & 0\\\\\n",
       "\\end{tabular}\n"
      ],
      "text/markdown": [
       "\n",
       "A tibble: 5 × 14\n",
       "\n",
       "| age &lt;dbl&gt; | sex &lt;dbl&gt; | cp &lt;dbl&gt; | trestbps &lt;dbl&gt; | chol &lt;dbl&gt; | fbs &lt;dbl&gt; | restecg &lt;dbl&gt; | thalach &lt;dbl&gt; | exang &lt;dbl&gt; | oldpeak &lt;dbl&gt; | slope &lt;dbl&gt; | ca &lt;chr&gt; | thal &lt;chr&gt; | num &lt;dbl&gt; |\n",
       "|---|---|---|---|---|---|---|---|---|---|---|---|---|---|\n",
       "| 63 | 1 | 1 | 145 | 233 | 1 | 2 | 150 | 0 | 2.3 | 3 | 0.0 | 6.0 | 0 |\n",
       "| 67 | 1 | 4 | 160 | 286 | 0 | 2 | 108 | 1 | 1.5 | 2 | 3.0 | 3.0 | 2 |\n",
       "| 67 | 1 | 4 | 120 | 229 | 0 | 2 | 129 | 1 | 2.6 | 2 | 2.0 | 7.0 | 1 |\n",
       "| 37 | 1 | 3 | 130 | 250 | 0 | 0 | 187 | 0 | 3.5 | 3 | 0.0 | 3.0 | 0 |\n",
       "| 41 | 0 | 2 | 130 | 204 | 0 | 2 | 172 | 0 | 1.4 | 1 | 0.0 | 3.0 | 0 |\n",
       "\n"
      ],
      "text/plain": [
       "  age sex cp trestbps chol fbs restecg thalach exang oldpeak slope ca  thal num\n",
       "1 63  1   1  145      233  1   2       150     0     2.3     3     0.0 6.0  0  \n",
       "2 67  1   4  160      286  0   2       108     1     1.5     2     3.0 3.0  2  \n",
       "3 67  1   4  120      229  0   2       129     1     2.6     2     2.0 7.0  1  \n",
       "4 37  1   3  130      250  0   0       187     0     3.5     3     0.0 3.0  0  \n",
       "5 41  0   2  130      204  0   2       172     0     1.4     1     0.0 3.0  0  "
      ]
     },
     "metadata": {},
     "output_type": "display_data"
    }
   ],
   "source": [
    "# read in dataset from web\n",
    "url <- \"https://archive.ics.uci.edu/static/public/45/heart+disease.zip\"\n",
    "download.file(url, \"cleveland_data.zip\")\n",
    "unzip(\"cleveland_data.zip\")\n",
    "cleveland_original <- read_csv(\"processed.cleveland.data\",\n",
    "                               col_names = c(\"age\", \"sex\", \"cp\", \"trestbps\", \"chol\", \"fbs\",\n",
    "                                        \"restecg\", \"thalach\", \"exang\", \"oldpeak\", \"slope\", \"ca\", \"thal\", \"num\"),\n",
    "                               show_col_types = FALSE)\n",
    "\n",
    "# preview first 5 rows of the dataframe\n",
    "head(cleveland_original, 5)"
   ]
  },
  {
   "cell_type": "markdown",
   "id": "60811b8a-13a6-4340-a978-09be1cdccd76",
   "metadata": {},
   "source": [
    "We cleaned the dataset to only contain information relevant to our analysis and converted a column's values to make more sense. Specifically, the dataset's description indicates that values 1, 2, 3, and 4 in the num column means that heart disease is present but does not indicate what differences in these values mean. So we converted num into a binary column (0 = no heart disease; 1 = presence of heart disease)."
   ]
  },
  {
   "cell_type": "code",
   "execution_count": 3,
   "id": "f11a71be-842e-463c-9fc9-f905308c44cb",
   "metadata": {},
   "outputs": [
    {
     "data": {
      "text/html": [
       "<table class=\"dataframe\">\n",
       "<caption>A tibble: 5 × 7</caption>\n",
       "<thead>\n",
       "\t<tr><th scope=col>age</th><th scope=col>sex</th><th scope=col>trestbps</th><th scope=col>chol</th><th scope=col>fbs</th><th scope=col>exang</th><th scope=col>num</th></tr>\n",
       "\t<tr><th scope=col>&lt;dbl&gt;</th><th scope=col>&lt;dbl&gt;</th><th scope=col>&lt;dbl&gt;</th><th scope=col>&lt;dbl&gt;</th><th scope=col>&lt;dbl&gt;</th><th scope=col>&lt;dbl&gt;</th><th scope=col>&lt;fct&gt;</th></tr>\n",
       "</thead>\n",
       "<tbody>\n",
       "\t<tr><td>63</td><td>1</td><td>145</td><td>233</td><td>1</td><td>0</td><td>0</td></tr>\n",
       "\t<tr><td>67</td><td>1</td><td>160</td><td>286</td><td>0</td><td>1</td><td>1</td></tr>\n",
       "\t<tr><td>67</td><td>1</td><td>120</td><td>229</td><td>0</td><td>1</td><td>1</td></tr>\n",
       "\t<tr><td>37</td><td>1</td><td>130</td><td>250</td><td>0</td><td>0</td><td>0</td></tr>\n",
       "\t<tr><td>41</td><td>0</td><td>130</td><td>204</td><td>0</td><td>0</td><td>0</td></tr>\n",
       "</tbody>\n",
       "</table>\n"
      ],
      "text/latex": [
       "A tibble: 5 × 7\n",
       "\\begin{tabular}{lllllll}\n",
       " age & sex & trestbps & chol & fbs & exang & num\\\\\n",
       " <dbl> & <dbl> & <dbl> & <dbl> & <dbl> & <dbl> & <fct>\\\\\n",
       "\\hline\n",
       "\t 63 & 1 & 145 & 233 & 1 & 0 & 0\\\\\n",
       "\t 67 & 1 & 160 & 286 & 0 & 1 & 1\\\\\n",
       "\t 67 & 1 & 120 & 229 & 0 & 1 & 1\\\\\n",
       "\t 37 & 1 & 130 & 250 & 0 & 0 & 0\\\\\n",
       "\t 41 & 0 & 130 & 204 & 0 & 0 & 0\\\\\n",
       "\\end{tabular}\n"
      ],
      "text/markdown": [
       "\n",
       "A tibble: 5 × 7\n",
       "\n",
       "| age &lt;dbl&gt; | sex &lt;dbl&gt; | trestbps &lt;dbl&gt; | chol &lt;dbl&gt; | fbs &lt;dbl&gt; | exang &lt;dbl&gt; | num &lt;fct&gt; |\n",
       "|---|---|---|---|---|---|---|\n",
       "| 63 | 1 | 145 | 233 | 1 | 0 | 0 |\n",
       "| 67 | 1 | 160 | 286 | 0 | 1 | 1 |\n",
       "| 67 | 1 | 120 | 229 | 0 | 1 | 1 |\n",
       "| 37 | 1 | 130 | 250 | 0 | 0 | 0 |\n",
       "| 41 | 0 | 130 | 204 | 0 | 0 | 0 |\n",
       "\n"
      ],
      "text/plain": [
       "  age sex trestbps chol fbs exang num\n",
       "1 63  1   145      233  1   0     0  \n",
       "2 67  1   160      286  0   1     1  \n",
       "3 67  1   120      229  0   1     1  \n",
       "4 37  1   130      250  0   0     0  \n",
       "5 41  0   130      204  0   0     0  "
      ]
     },
     "metadata": {},
     "output_type": "display_data"
    }
   ],
   "source": [
    "# select for columns we'll use\n",
    "cleveland <- select(cleveland_original, age, sex, trestbps, chol, fbs, exang, num)\n",
    "\n",
    "# convert num column to binary factor (0 = no heart disease; 1 = presence of heart disease)\n",
    "cleveland <- cleveland |>\n",
    "    mutate(num = ifelse(num != 0, 1, 0)) |>\n",
    "    mutate(num = as_factor(num))\n",
    "\n",
    "# preview first 5 rows of new dataframe\n",
    "head(cleveland, 5)"
   ]
  },
  {
   "cell_type": "markdown",
   "id": "33c77197-73de-494a-b7f3-0f2cef67d8be",
   "metadata": {},
   "source": [
    "We then split our cleaned data into training and testing data, then performed exploratory data analysis on the training data."
   ]
  },
  {
   "cell_type": "code",
   "execution_count": 4,
   "id": "9dcac125-7484-4763-8482-3db9a80450f3",
   "metadata": {},
   "outputs": [],
   "source": [
    "#set seed to make our data analysis reproducible\n",
    "set.seed(10)\n",
    "\n",
    "cleveland_split <- initial_split(cleveland, prop = 0.75, strata = num)\n",
    "cleveland_training <- training(cleveland_split)\n",
    "cleveland_testing <- testing(cleveland_split)"
   ]
  },
  {
   "cell_type": "markdown",
   "id": "c0816922-0fac-4409-932b-fcef0452c55a",
   "metadata": {},
   "source": [
    "To gain insight into our training data, the following data tables were made to see the number of observations in each class of sex, fasting blood sugar level, and if an individual gets exercise induced angina (chest pain)."
   ]
  },
  {
   "cell_type": "code",
   "execution_count": 5,
   "id": "46b8bfea-bd84-4ca2-9109-727246c12ee7",
   "metadata": {
    "tags": []
   },
   "outputs": [
    {
     "data": {
      "text/html": [
       "<table class=\"dataframe\">\n",
       "<caption>A tibble: 2 × 2</caption>\n",
       "<thead>\n",
       "\t<tr><th scope=col>sex</th><th scope=col>amount_of_individuals</th></tr>\n",
       "\t<tr><th scope=col>&lt;dbl&gt;</th><th scope=col>&lt;int&gt;</th></tr>\n",
       "</thead>\n",
       "<tbody>\n",
       "\t<tr><td>0</td><td> 72</td></tr>\n",
       "\t<tr><td>1</td><td>155</td></tr>\n",
       "</tbody>\n",
       "</table>\n"
      ],
      "text/latex": [
       "A tibble: 2 × 2\n",
       "\\begin{tabular}{ll}\n",
       " sex & amount\\_of\\_individuals\\\\\n",
       " <dbl> & <int>\\\\\n",
       "\\hline\n",
       "\t 0 &  72\\\\\n",
       "\t 1 & 155\\\\\n",
       "\\end{tabular}\n"
      ],
      "text/markdown": [
       "\n",
       "A tibble: 2 × 2\n",
       "\n",
       "| sex &lt;dbl&gt; | amount_of_individuals &lt;int&gt; |\n",
       "|---|---|\n",
       "| 0 |  72 |\n",
       "| 1 | 155 |\n",
       "\n"
      ],
      "text/plain": [
       "  sex amount_of_individuals\n",
       "1 0    72                  \n",
       "2 1   155                  "
      ]
     },
     "metadata": {},
     "output_type": "display_data"
    },
    {
     "data": {
      "text/html": [
       "<table class=\"dataframe\">\n",
       "<caption>A tibble: 2 × 2</caption>\n",
       "<thead>\n",
       "\t<tr><th scope=col>fbs</th><th scope=col>amount_of_individuals</th></tr>\n",
       "\t<tr><th scope=col>&lt;dbl&gt;</th><th scope=col>&lt;int&gt;</th></tr>\n",
       "</thead>\n",
       "<tbody>\n",
       "\t<tr><td>0</td><td>190</td></tr>\n",
       "\t<tr><td>1</td><td> 37</td></tr>\n",
       "</tbody>\n",
       "</table>\n"
      ],
      "text/latex": [
       "A tibble: 2 × 2\n",
       "\\begin{tabular}{ll}\n",
       " fbs & amount\\_of\\_individuals\\\\\n",
       " <dbl> & <int>\\\\\n",
       "\\hline\n",
       "\t 0 & 190\\\\\n",
       "\t 1 &  37\\\\\n",
       "\\end{tabular}\n"
      ],
      "text/markdown": [
       "\n",
       "A tibble: 2 × 2\n",
       "\n",
       "| fbs &lt;dbl&gt; | amount_of_individuals &lt;int&gt; |\n",
       "|---|---|\n",
       "| 0 | 190 |\n",
       "| 1 |  37 |\n",
       "\n"
      ],
      "text/plain": [
       "  fbs amount_of_individuals\n",
       "1 0   190                  \n",
       "2 1    37                  "
      ]
     },
     "metadata": {},
     "output_type": "display_data"
    },
    {
     "data": {
      "text/html": [
       "<table class=\"dataframe\">\n",
       "<caption>A tibble: 2 × 2</caption>\n",
       "<thead>\n",
       "\t<tr><th scope=col>exang</th><th scope=col>amount_of_individuals</th></tr>\n",
       "\t<tr><th scope=col>&lt;dbl&gt;</th><th scope=col>&lt;int&gt;</th></tr>\n",
       "</thead>\n",
       "<tbody>\n",
       "\t<tr><td>0</td><td>157</td></tr>\n",
       "\t<tr><td>1</td><td> 70</td></tr>\n",
       "</tbody>\n",
       "</table>\n"
      ],
      "text/latex": [
       "A tibble: 2 × 2\n",
       "\\begin{tabular}{ll}\n",
       " exang & amount\\_of\\_individuals\\\\\n",
       " <dbl> & <int>\\\\\n",
       "\\hline\n",
       "\t 0 & 157\\\\\n",
       "\t 1 &  70\\\\\n",
       "\\end{tabular}\n"
      ],
      "text/markdown": [
       "\n",
       "A tibble: 2 × 2\n",
       "\n",
       "| exang &lt;dbl&gt; | amount_of_individuals &lt;int&gt; |\n",
       "|---|---|\n",
       "| 0 | 157 |\n",
       "| 1 |  70 |\n",
       "\n"
      ],
      "text/plain": [
       "  exang amount_of_individuals\n",
       "1 0     157                  \n",
       "2 1      70                  "
      ]
     },
     "metadata": {},
     "output_type": "display_data"
    }
   ],
   "source": [
    "# table for number of observations in each class of sex: (1 = male; 0 = female)\n",
    "cleveland_train_sex <- cleveland_training |>\n",
    "    group_by(sex) |>\n",
    "    summarize(amount_of_individuals = n())\n",
    "\n",
    "cleveland_train_sex\n",
    "\n",
    "# table for number of observations in each class of fbs: (fasting blood sugar > 120 mg/dl) (1 = true; 0 = false)\n",
    "cleveland_train_fbs <- cleveland_training |>\n",
    "    group_by(fbs) |>\n",
    "    summarize(amount_of_individuals = n())\n",
    "\n",
    "cleveland_train_fbs\n",
    "\n",
    "# table for number of observations in each class of exang: exercise induced angina (1 = yes; 0 = no)\n",
    "cleveland_train_exang <- cleveland_training |>\n",
    "    group_by(exang) |>\n",
    "    summarize(amount_of_individuals = n())\n",
    "\n",
    "cleveland_train_exang"
   ]
  },
  {
   "cell_type": "markdown",
   "id": "41e2b7d9-a770-4fe8-98bd-93f0e9bf9f89",
   "metadata": {},
   "source": [
    "We also found the means of our planned predictor variables:"
   ]
  },
  {
   "cell_type": "code",
   "execution_count": 6,
   "id": "db28a84e-8a85-4eb0-a25c-bb24986df6d0",
   "metadata": {},
   "outputs": [
    {
     "data": {
      "text/html": [
       "<table class=\"dataframe\">\n",
       "<caption>A tibble: 1 × 6</caption>\n",
       "<thead>\n",
       "\t<tr><th scope=col>age</th><th scope=col>sex</th><th scope=col>trestbps</th><th scope=col>chol</th><th scope=col>fbs</th><th scope=col>exang</th></tr>\n",
       "\t<tr><th scope=col>&lt;dbl&gt;</th><th scope=col>&lt;dbl&gt;</th><th scope=col>&lt;dbl&gt;</th><th scope=col>&lt;dbl&gt;</th><th scope=col>&lt;dbl&gt;</th><th scope=col>&lt;dbl&gt;</th></tr>\n",
       "</thead>\n",
       "<tbody>\n",
       "\t<tr><td>54.00441</td><td>0.6828194</td><td>131.4581</td><td>243.3084</td><td>0.1629956</td><td>0.30837</td></tr>\n",
       "</tbody>\n",
       "</table>\n"
      ],
      "text/latex": [
       "A tibble: 1 × 6\n",
       "\\begin{tabular}{llllll}\n",
       " age & sex & trestbps & chol & fbs & exang\\\\\n",
       " <dbl> & <dbl> & <dbl> & <dbl> & <dbl> & <dbl>\\\\\n",
       "\\hline\n",
       "\t 54.00441 & 0.6828194 & 131.4581 & 243.3084 & 0.1629956 & 0.30837\\\\\n",
       "\\end{tabular}\n"
      ],
      "text/markdown": [
       "\n",
       "A tibble: 1 × 6\n",
       "\n",
       "| age &lt;dbl&gt; | sex &lt;dbl&gt; | trestbps &lt;dbl&gt; | chol &lt;dbl&gt; | fbs &lt;dbl&gt; | exang &lt;dbl&gt; |\n",
       "|---|---|---|---|---|---|\n",
       "| 54.00441 | 0.6828194 | 131.4581 | 243.3084 | 0.1629956 | 0.30837 |\n",
       "\n"
      ],
      "text/plain": [
       "  age      sex       trestbps chol     fbs       exang  \n",
       "1 54.00441 0.6828194 131.4581 243.3084 0.1629956 0.30837"
      ]
     },
     "metadata": {},
     "output_type": "display_data"
    }
   ],
   "source": [
    "cleveland_train_means <- cleveland_training |>\n",
    "    select(-num) |>\n",
    "    map_df(mean)\n",
    "\n",
    "cleveland_train_means"
   ]
  },
  {
   "cell_type": "markdown",
   "id": "60f98ee0-96f6-4225-908d-758743bd997e",
   "metadata": {},
   "source": [
    "Additionally, we visualized the distributions of each numerical/non-binary predictor variables (age, resting blood pressure, and cholesterol level) in the following histograms:"
   ]
  },
  {
   "cell_type": "code",
   "execution_count": 7,
   "id": "3d020f77-4790-43cb-99c5-e478ad7ecea6",
   "metadata": {},
   "outputs": [
    {
     "data": {
      "image/png": "[encoded data removed]",
      "text/plain": [
       "plot without title"
      ]
     },
     "metadata": {
      "image/png": {
       "height": 360,
       "width": 450
      }
     },
     "output_type": "display_data"
    },
    {
     "data": {
      "image/png": "[encoded data removed]",
      "text/plain": [
       "plot without title"
      ]
     },
     "metadata": {
      "image/png": {
       "height": 360,
       "width": 450
      }
     },
     "output_type": "display_data"
    },
    {
     "data": {
      "image/png": "[encoded data removed]",
      "text/plain": [
       "plot without title"
      ]
     },
     "metadata": {
      "image/png": {
       "height": 360,
       "width": 450
      }
     },
     "output_type": "display_data"
    }
   ],
   "source": [
    "# set size of the plots\n",
    "options(repr.plot.height = 6, repr.plot.width = 7.5)\n",
    "\n",
    "# distribution of age\n",
    "age_dist <- cleveland_training |>\n",
    "    ggplot(aes(x = age)) +\n",
    "    geom_histogram(bins = 25) +\n",
    "    labs(x = \"Age (years)\", y = \"Proportion of Individuals\") +\n",
    "    ggtitle(\"Distribution of Observed Ages\") +\n",
    "    theme(text = element_text(size = 18))\n",
    "age_dist\n",
    "\n",
    "# distribution of trestbps: resting blood pressure\n",
    "trestbps_dist <- cleveland_training |>\n",
    "    ggplot(aes(x = trestbps)) +\n",
    "    geom_histogram(bins = 25) +\n",
    "    labs(x = \"Resting Blood Pressure (mm Hg)\", y = \"Proportion of Individuals\") +\n",
    "    ggtitle(\"Distribution of Observed Resting Blood Pressures\") +\n",
    "    theme(text = element_text(size = 18))\n",
    "trestbps_dist\n",
    "\n",
    "# distribution of chol: serum cholestoral\n",
    "chol_dist <- cleveland_training |>\n",
    "    ggplot(aes(x = chol)) +\n",
    "    geom_histogram(bins = 25) +\n",
    "    labs(x = \"Serum Cholestoral Level (mg/dl)\", y = \"Proportion of Individuals\") +\n",
    "    ggtitle(\"Distribution of Observed Cholestoral Levels\") +\n",
    "    theme(text = element_text(size = 18))\n",
    "chol_dist"
   ]
  },
  {
   "cell_type": "code",
   "execution_count": 8,
   "id": "86e39105-bab5-4dfa-93af-edfabeece4d6",
   "metadata": {},
   "outputs": [
    {
     "data": {
      "text/html": [
       "13"
      ],
      "text/latex": [
       "13"
      ],
      "text/markdown": [
       "13"
      ],
      "text/plain": [
       "[1] 13"
      ]
     },
     "metadata": {},
     "output_type": "display_data"
    }
   ],
   "source": [
    "# main data analysis\n",
    "# make model spec for knn classification\n",
    "knn_spec <- nearest_neighbor(weight_func = \"rectangular\", neighbors = tune()) |>\n",
    "    set_engine(\"kknn\") |>\n",
    "    set_mode(\"classification\")\n",
    "\n",
    "# make recipe and standardize data\n",
    "cleveland_recipe <- recipe(num ~ ., data = cleveland_training) |>\n",
    "    step_center(all_predictors()) |>\n",
    "    step_scale(all_predictors())\n",
    "\n",
    "# split training data into 5 parts for cross-validation\n",
    "cleveland_vfold <- vfold_cv(cleveland_training, v = 5, strata = num)\n",
    "\n",
    "# make workflow\n",
    "cleveland_workflow <- workflow() |>\n",
    "    add_recipe(cleveland_recipe) |>\n",
    "    add_model(knn_spec)\n",
    "\n",
    "# make tibble with a range of k values\n",
    "grid_vals <- tibble(neighbors = 1:15)\n",
    "\n",
    "# tune workflow to test all k values, resample using cross validation data set, collect stats from model\n",
    "knn_results <- cleveland_workflow |>\n",
    "    tune_grid(resamples = cleveland_vfold, grid = grid_vals) |>\n",
    "    collect_metrics() |>\n",
    "    filter(.metric == \"accuracy\")\n",
    "\n",
    "# get k value that yields the highest accuracy estimate\n",
    "k_max_accuracy <- knn_results |>\n",
    "    arrange(desc(mean)) |>\n",
    "    slice(1) |>\n",
    "    pull(neighbors)"
   ]
  },
  {
   "cell_type": "code",
   "execution_count": null,
   "id": "42b24ed1-b8d3-4757-b5d9-dbe8e6f01fcb",
   "metadata": {},
   "outputs": [],
   "source": [
    "# make new model spec for the best k\n",
    "best_knn_spec <- nearest_neighbor(weight_func = \"rectangular\", neighbors = k_max_accuracy) |>\n",
    "    set_engine(\"kknn\") |>\n",
    "    set_mode(\"classification\")\n",
    "\n",
    "# retrain classifier\n",
    "best_fit <- workflow() |>\n",
    "    add_recipe(cleveland_recipe) |>\n",
    "    add_model(best_knn_spec) |>\n",
    "    fit(data = cleveland_training)\n",
    "\n",
    "# get estimate of accuracy of classifier on testing data\n",
    "knn_accuracy <- best_fit |>\n",
    "    predict(cleveland_testing) |>\n",
    "    bind_cols(cleveland_testing) |>\n",
    "    metrics(truth = num, estimate = .pred_class) |>\n",
    "    filter(.metric == \"accuracy\") |>\n",
    "    pull(.estimate)\n",
    "\n",
    "knn_accuracy"
   ]
  },
  {
   "cell_type": "markdown",
   "id": "a551f9eb-c888-40af-87fd-bca69bc93c50",
   "metadata": {},
   "source": [
    "## Discussion"
   ]
  },
  {
   "cell_type": "markdown",
   "id": "33f1781d-0654-4b7f-801d-aaa12001fe0c",
   "metadata": {},
   "source": []
  },
  {
   "cell_type": "markdown",
   "id": "a3ca89c0-c49a-42b9-8848-bdfd38b51eab",
   "metadata": {},
   "source": [
    "## References"
   ]
  },
  {
   "cell_type": "markdown",
   "id": "edd5e33e-07e0-4aed-a295-9885d43920b9",
   "metadata": {},
   "source": []
  }
 ],
 "metadata": {
  "kernelspec": {
   "display_name": "R",
   "language": "R",
   "name": "ir"
  },
  "language_info": {
   "codemirror_mode": "r",
   "file_extension": ".r",
   "mimetype": "text/x-r-source",
   "name": "R",
   "pygments_lexer": "r",
   "version": "4.1.3"
  }
 },
 "nbformat": 4,
 "nbformat_minor": 5
}
