{
 "cells": [
  {
   "cell_type": "markdown",
   "id": "6f5c0fab-f948-4bc8-a246-d4f4d141bc67",
   "metadata": {},
   "source": [
    "# Title"
   ]
  },
  {
   "cell_type": "markdown",
   "id": "707c4091-9598-48f0-8ca4-2b9dcb79c020",
   "metadata": {},
   "source": [
    "## Introduction\n",
    "\n",
    "Heart disease is the second leading cause of death in Canada, and occurs due to a build up of plaque in a person’s arteries. It can lead to a heart attack, heart failure, or death. Many factors can increase a person’s likelihood of getting a heart disease diagnosis, such as age and sex (via [Government of Canada](https://www.canada.ca/en/public-health/services/publications/diseases-conditions/heart-disease-canada.html)). \n",
    "With this project, we want to answer the question: **Can a person’s age, sex, resting blood pressure, cholesterol, fasting blood sugar, and susceptibility to exercise-induced anginas accurately predict if they will get diagnosed with heart disease?** To answer this question, we will be using a dataset from the Cleveland Clinic Foundation from 1988, which includes these various attributes for 303 patients, and whether or not they were diagnosed with heart disease."
   ]
  },
  {
   "cell_type": "markdown",
   "id": "02edc7e1-520c-42b7-b2ea-a9ea6918ec88",
   "metadata": {},
   "source": [
    "## Preliminary Exploratory Data Analysis"
   ]
  },
  {
   "cell_type": "code",
   "execution_count": 10,
   "id": "9db181bd-8cc1-4a3c-bc04-535181f0adc2",
   "metadata": {
    "tags": []
   },
   "outputs": [],
   "source": [
    "#load packages\n",
    "library(tidyverse) # needed for many functions used for data analysis, such as read_csv(), select(), etc.\n",
    "library(repr) # needed to resize plots\n",
    "library(tidymodels) # needed to split data into training and testing data and to perform classification"
   ]
  },
  {
   "cell_type": "code",
   "execution_count": 11,
   "id": "3c4ca646-7ad7-4777-9fa5-9007f64e46f8",
   "metadata": {},
   "outputs": [
    {
     "name": "stderr",
     "output_type": "stream",
     "text": [
      "\u001b[1mRows: \u001b[22m\u001b[34m303\u001b[39m \u001b[1mColumns: \u001b[22m\u001b[34m14\u001b[39m\n",
      "\u001b[36m──\u001b[39m \u001b[1mColumn specification\u001b[22m \u001b[36m────────────────────────────────────────────────────────\u001b[39m\n",
      "\u001b[1mDelimiter:\u001b[22m \",\"\n",
      "\u001b[31mchr\u001b[39m  (2): ca, thal\n",
      "\u001b[32mdbl\u001b[39m (12): age, sex, cp, trestbps, chol, fbs, restecg, thalach, exang, oldpea...\n",
      "\n",
      "\u001b[36mℹ\u001b[39m Use `spec()` to retrieve the full column specification for this data.\n",
      "\u001b[36mℹ\u001b[39m Specify the column types or set `show_col_types = FALSE` to quiet this message.\n"
     ]
    },
    {
     "data": {
      "text/html": [
       "<table class=\"dataframe\">\n",
       "<caption>A tibble: 5 × 14</caption>\n",
       "<thead>\n",
       "\t<tr><th scope=col>age</th><th scope=col>sex</th><th scope=col>cp</th><th scope=col>trestbps</th><th scope=col>chol</th><th scope=col>fbs</th><th scope=col>restecg</th><th scope=col>thalach</th><th scope=col>exang</th><th scope=col>oldpeak</th><th scope=col>slope</th><th scope=col>ca</th><th scope=col>thal</th><th scope=col>num</th></tr>\n",
       "\t<tr><th scope=col>&lt;dbl&gt;</th><th scope=col>&lt;dbl&gt;</th><th scope=col>&lt;dbl&gt;</th><th scope=col>&lt;dbl&gt;</th><th scope=col>&lt;dbl&gt;</th><th scope=col>&lt;dbl&gt;</th><th scope=col>&lt;dbl&gt;</th><th scope=col>&lt;dbl&gt;</th><th scope=col>&lt;dbl&gt;</th><th scope=col>&lt;dbl&gt;</th><th scope=col>&lt;dbl&gt;</th><th scope=col>&lt;chr&gt;</th><th scope=col>&lt;chr&gt;</th><th scope=col>&lt;dbl&gt;</th></tr>\n",
       "</thead>\n",
       "<tbody>\n",
       "\t<tr><td>63</td><td>1</td><td>1</td><td>145</td><td>233</td><td>1</td><td>2</td><td>150</td><td>0</td><td>2.3</td><td>3</td><td>0.0</td><td>6.0</td><td>0</td></tr>\n",
       "\t<tr><td>67</td><td>1</td><td>4</td><td>160</td><td>286</td><td>0</td><td>2</td><td>108</td><td>1</td><td>1.5</td><td>2</td><td>3.0</td><td>3.0</td><td>2</td></tr>\n",
       "\t<tr><td>67</td><td>1</td><td>4</td><td>120</td><td>229</td><td>0</td><td>2</td><td>129</td><td>1</td><td>2.6</td><td>2</td><td>2.0</td><td>7.0</td><td>1</td></tr>\n",
       "\t<tr><td>37</td><td>1</td><td>3</td><td>130</td><td>250</td><td>0</td><td>0</td><td>187</td><td>0</td><td>3.5</td><td>3</td><td>0.0</td><td>3.0</td><td>0</td></tr>\n",
       "\t<tr><td>41</td><td>0</td><td>2</td><td>130</td><td>204</td><td>0</td><td>2</td><td>172</td><td>0</td><td>1.4</td><td>1</td><td>0.0</td><td>3.0</td><td>0</td></tr>\n",
       "</tbody>\n",
       "</table>\n"
      ],
      "text/latex": [
       "A tibble: 5 × 14\n",
       "\\begin{tabular}{llllllllllllll}\n",
       " age & sex & cp & trestbps & chol & fbs & restecg & thalach & exang & oldpeak & slope & ca & thal & num\\\\\n",
       " <dbl> & <dbl> & <dbl> & <dbl> & <dbl> & <dbl> & <dbl> & <dbl> & <dbl> & <dbl> & <dbl> & <chr> & <chr> & <dbl>\\\\\n",
       "\\hline\n",
       "\t 63 & 1 & 1 & 145 & 233 & 1 & 2 & 150 & 0 & 2.3 & 3 & 0.0 & 6.0 & 0\\\\\n",
       "\t 67 & 1 & 4 & 160 & 286 & 0 & 2 & 108 & 1 & 1.5 & 2 & 3.0 & 3.0 & 2\\\\\n",
       "\t 67 & 1 & 4 & 120 & 229 & 0 & 2 & 129 & 1 & 2.6 & 2 & 2.0 & 7.0 & 1\\\\\n",
       "\t 37 & 1 & 3 & 130 & 250 & 0 & 0 & 187 & 0 & 3.5 & 3 & 0.0 & 3.0 & 0\\\\\n",
       "\t 41 & 0 & 2 & 130 & 204 & 0 & 2 & 172 & 0 & 1.4 & 1 & 0.0 & 3.0 & 0\\\\\n",
       "\\end{tabular}\n"
      ],
      "text/markdown": [
       "\n",
       "A tibble: 5 × 14\n",
       "\n",
       "| age &lt;dbl&gt; | sex &lt;dbl&gt; | cp &lt;dbl&gt; | trestbps &lt;dbl&gt; | chol &lt;dbl&gt; | fbs &lt;dbl&gt; | restecg &lt;dbl&gt; | thalach &lt;dbl&gt; | exang &lt;dbl&gt; | oldpeak &lt;dbl&gt; | slope &lt;dbl&gt; | ca &lt;chr&gt; | thal &lt;chr&gt; | num &lt;dbl&gt; |\n",
       "|---|---|---|---|---|---|---|---|---|---|---|---|---|---|\n",
       "| 63 | 1 | 1 | 145 | 233 | 1 | 2 | 150 | 0 | 2.3 | 3 | 0.0 | 6.0 | 0 |\n",
       "| 67 | 1 | 4 | 160 | 286 | 0 | 2 | 108 | 1 | 1.5 | 2 | 3.0 | 3.0 | 2 |\n",
       "| 67 | 1 | 4 | 120 | 229 | 0 | 2 | 129 | 1 | 2.6 | 2 | 2.0 | 7.0 | 1 |\n",
       "| 37 | 1 | 3 | 130 | 250 | 0 | 0 | 187 | 0 | 3.5 | 3 | 0.0 | 3.0 | 0 |\n",
       "| 41 | 0 | 2 | 130 | 204 | 0 | 2 | 172 | 0 | 1.4 | 1 | 0.0 | 3.0 | 0 |\n",
       "\n"
      ],
      "text/plain": [
       "  age sex cp trestbps chol fbs restecg thalach exang oldpeak slope ca  thal num\n",
       "1 63  1   1  145      233  1   2       150     0     2.3     3     0.0 6.0  0  \n",
       "2 67  1   4  160      286  0   2       108     1     1.5     2     3.0 3.0  2  \n",
       "3 67  1   4  120      229  0   2       129     1     2.6     2     2.0 7.0  1  \n",
       "4 37  1   3  130      250  0   0       187     0     3.5     3     0.0 3.0  0  \n",
       "5 41  0   2  130      204  0   2       172     0     1.4     1     0.0 3.0  0  "
      ]
     },
     "metadata": {},
     "output_type": "display_data"
    }
   ],
   "source": [
    "# read in dataset from web\n",
    "url <- \"https://archive.ics.uci.edu/static/public/45/heart+disease.zip\"\n",
    "download.file(url, \"cleveland_data.zip\")\n",
    "unzip(\"cleveland_data.zip\")\n",
    "cleveland_original <- read_csv(\"processed.cleveland.data\",\n",
    "                          col_names = c(\"age\", \"sex\", \"cp\", \"trestbps\", \"chol\", \"fbs\",\n",
    "                                        \"restecg\", \"thalach\", \"exang\", \"oldpeak\", \"slope\", \"ca\", \"thal\", \"num\"))\n",
    "\n",
    "# preview first 5 rows of the dataframe\n",
    "head(cleveland_original, 5)"
   ]
  },
  {
   "cell_type": "code",
   "execution_count": 12,
   "id": "f11a71be-842e-463c-9fc9-f905308c44cb",
   "metadata": {},
   "outputs": [
    {
     "data": {
      "text/html": [
       "<table class=\"dataframe\">\n",
       "<caption>A tibble: 5 × 7</caption>\n",
       "<thead>\n",
       "\t<tr><th scope=col>age</th><th scope=col>sex</th><th scope=col>trestbps</th><th scope=col>chol</th><th scope=col>fbs</th><th scope=col>exang</th><th scope=col>num</th></tr>\n",
       "\t<tr><th scope=col>&lt;dbl&gt;</th><th scope=col>&lt;dbl&gt;</th><th scope=col>&lt;dbl&gt;</th><th scope=col>&lt;dbl&gt;</th><th scope=col>&lt;dbl&gt;</th><th scope=col>&lt;dbl&gt;</th><th scope=col>&lt;dbl&gt;</th></tr>\n",
       "</thead>\n",
       "<tbody>\n",
       "\t<tr><td>63</td><td>1</td><td>145</td><td>233</td><td>1</td><td>0</td><td>0</td></tr>\n",
       "\t<tr><td>67</td><td>1</td><td>160</td><td>286</td><td>0</td><td>1</td><td>2</td></tr>\n",
       "\t<tr><td>67</td><td>1</td><td>120</td><td>229</td><td>0</td><td>1</td><td>1</td></tr>\n",
       "\t<tr><td>37</td><td>1</td><td>130</td><td>250</td><td>0</td><td>0</td><td>0</td></tr>\n",
       "\t<tr><td>41</td><td>0</td><td>130</td><td>204</td><td>0</td><td>0</td><td>0</td></tr>\n",
       "</tbody>\n",
       "</table>\n"
      ],
      "text/latex": [
       "A tibble: 5 × 7\n",
       "\\begin{tabular}{lllllll}\n",
       " age & sex & trestbps & chol & fbs & exang & num\\\\\n",
       " <dbl> & <dbl> & <dbl> & <dbl> & <dbl> & <dbl> & <dbl>\\\\\n",
       "\\hline\n",
       "\t 63 & 1 & 145 & 233 & 1 & 0 & 0\\\\\n",
       "\t 67 & 1 & 160 & 286 & 0 & 1 & 2\\\\\n",
       "\t 67 & 1 & 120 & 229 & 0 & 1 & 1\\\\\n",
       "\t 37 & 1 & 130 & 250 & 0 & 0 & 0\\\\\n",
       "\t 41 & 0 & 130 & 204 & 0 & 0 & 0\\\\\n",
       "\\end{tabular}\n"
      ],
      "text/markdown": [
       "\n",
       "A tibble: 5 × 7\n",
       "\n",
       "| age &lt;dbl&gt; | sex &lt;dbl&gt; | trestbps &lt;dbl&gt; | chol &lt;dbl&gt; | fbs &lt;dbl&gt; | exang &lt;dbl&gt; | num &lt;dbl&gt; |\n",
       "|---|---|---|---|---|---|---|\n",
       "| 63 | 1 | 145 | 233 | 1 | 0 | 0 |\n",
       "| 67 | 1 | 160 | 286 | 0 | 1 | 2 |\n",
       "| 67 | 1 | 120 | 229 | 0 | 1 | 1 |\n",
       "| 37 | 1 | 130 | 250 | 0 | 0 | 0 |\n",
       "| 41 | 0 | 130 | 204 | 0 | 0 | 0 |\n",
       "\n"
      ],
      "text/plain": [
       "  age sex trestbps chol fbs exang num\n",
       "1 63  1   145      233  1   0     0  \n",
       "2 67  1   160      286  0   1     2  \n",
       "3 67  1   120      229  0   1     1  \n",
       "4 37  1   130      250  0   0     0  \n",
       "5 41  0   130      204  0   0     0  "
      ]
     },
     "metadata": {},
     "output_type": "display_data"
    }
   ],
   "source": [
    "# select for columns we'll use\n",
    "cleveland <- select(cleveland_original, age, sex, trestbps, chol, fbs, exang, num)\n",
    "\n",
    "# preview first 5 rows of new dataframe\n",
    "head(cleveland, 5)"
   ]
  },
  {
   "cell_type": "code",
   "execution_count": 13,
   "id": "9dcac125-7484-4763-8482-3db9a80450f3",
   "metadata": {},
   "outputs": [],
   "source": [
    "# split the data then make training and testing data\n",
    "cleveland_split <- initial_split(cleveland, prop = 0.75, strata = num)\n",
    "cleveland_training <- training(cleveland_split)\n",
    "cleveland_testing <- testing(cleveland_split)"
   ]
  },
  {
   "cell_type": "code",
   "execution_count": 14,
   "id": "46b8bfea-bd84-4ca2-9109-727246c12ee7",
   "metadata": {
    "tags": []
   },
   "outputs": [
    {
     "data": {
      "text/html": [
       "<table class=\"dataframe\">\n",
       "<caption>A tibble: 2 × 2</caption>\n",
       "<thead>\n",
       "\t<tr><th scope=col>sex</th><th scope=col>amount_of_individuals</th></tr>\n",
       "\t<tr><th scope=col>&lt;dbl&gt;</th><th scope=col>&lt;int&gt;</th></tr>\n",
       "</thead>\n",
       "<tbody>\n",
       "\t<tr><td>0</td><td> 75</td></tr>\n",
       "\t<tr><td>1</td><td>150</td></tr>\n",
       "</tbody>\n",
       "</table>\n"
      ],
      "text/latex": [
       "A tibble: 2 × 2\n",
       "\\begin{tabular}{ll}\n",
       " sex & amount\\_of\\_individuals\\\\\n",
       " <dbl> & <int>\\\\\n",
       "\\hline\n",
       "\t 0 &  75\\\\\n",
       "\t 1 & 150\\\\\n",
       "\\end{tabular}\n"
      ],
      "text/markdown": [
       "\n",
       "A tibble: 2 × 2\n",
       "\n",
       "| sex &lt;dbl&gt; | amount_of_individuals &lt;int&gt; |\n",
       "|---|---|\n",
       "| 0 |  75 |\n",
       "| 1 | 150 |\n",
       "\n"
      ],
      "text/plain": [
       "  sex amount_of_individuals\n",
       "1 0    75                  \n",
       "2 1   150                  "
      ]
     },
     "metadata": {},
     "output_type": "display_data"
    },
    {
     "data": {
      "text/html": [
       "<table class=\"dataframe\">\n",
       "<caption>A tibble: 2 × 2</caption>\n",
       "<thead>\n",
       "\t<tr><th scope=col>fbs</th><th scope=col>amount_of_individuals</th></tr>\n",
       "\t<tr><th scope=col>&lt;dbl&gt;</th><th scope=col>&lt;int&gt;</th></tr>\n",
       "</thead>\n",
       "<tbody>\n",
       "\t<tr><td>0</td><td>189</td></tr>\n",
       "\t<tr><td>1</td><td> 36</td></tr>\n",
       "</tbody>\n",
       "</table>\n"
      ],
      "text/latex": [
       "A tibble: 2 × 2\n",
       "\\begin{tabular}{ll}\n",
       " fbs & amount\\_of\\_individuals\\\\\n",
       " <dbl> & <int>\\\\\n",
       "\\hline\n",
       "\t 0 & 189\\\\\n",
       "\t 1 &  36\\\\\n",
       "\\end{tabular}\n"
      ],
      "text/markdown": [
       "\n",
       "A tibble: 2 × 2\n",
       "\n",
       "| fbs &lt;dbl&gt; | amount_of_individuals &lt;int&gt; |\n",
       "|---|---|\n",
       "| 0 | 189 |\n",
       "| 1 |  36 |\n",
       "\n"
      ],
      "text/plain": [
       "  fbs amount_of_individuals\n",
       "1 0   189                  \n",
       "2 1    36                  "
      ]
     },
     "metadata": {},
     "output_type": "display_data"
    },
    {
     "data": {
      "text/html": [
       "<table class=\"dataframe\">\n",
       "<caption>A tibble: 2 × 2</caption>\n",
       "<thead>\n",
       "\t<tr><th scope=col>exang</th><th scope=col>amount_of_individuals</th></tr>\n",
       "\t<tr><th scope=col>&lt;dbl&gt;</th><th scope=col>&lt;int&gt;</th></tr>\n",
       "</thead>\n",
       "<tbody>\n",
       "\t<tr><td>0</td><td>163</td></tr>\n",
       "\t<tr><td>1</td><td> 62</td></tr>\n",
       "</tbody>\n",
       "</table>\n"
      ],
      "text/latex": [
       "A tibble: 2 × 2\n",
       "\\begin{tabular}{ll}\n",
       " exang & amount\\_of\\_individuals\\\\\n",
       " <dbl> & <int>\\\\\n",
       "\\hline\n",
       "\t 0 & 163\\\\\n",
       "\t 1 &  62\\\\\n",
       "\\end{tabular}\n"
      ],
      "text/markdown": [
       "\n",
       "A tibble: 2 × 2\n",
       "\n",
       "| exang &lt;dbl&gt; | amount_of_individuals &lt;int&gt; |\n",
       "|---|---|\n",
       "| 0 | 163 |\n",
       "| 1 |  62 |\n",
       "\n"
      ],
      "text/plain": [
       "  exang amount_of_individuals\n",
       "1 0     163                  \n",
       "2 1      62                  "
      ]
     },
     "metadata": {},
     "output_type": "display_data"
    }
   ],
   "source": [
    "# Tables that report the number of observations in each class of sex, fasting blood sugar level, and if an individual has excercise induced angina.\n",
    "\n",
    "#sex: (1 = male; 0 = female)\n",
    "cleveland_train_sex <- cleveland_training |>\n",
    "    group_by(sex) |>\n",
    "    summarize(amount_of_individuals = n())\n",
    "\n",
    "cleveland_train_sex\n",
    "\n",
    "#fbs: (fasting blood sugar > 120 mg/dl) (1 = true; 0 = false)\n",
    "cleveland_train_fbs <- cleveland_training |>\n",
    "    group_by(fbs) |>\n",
    "    summarize(amount_of_individuals = n())\n",
    "\n",
    "cleveland_train_fbs\n",
    "\n",
    "#exang: exercise induced angina (1 = yes; 0 = no)\n",
    "cleveland_train_exang <- cleveland_training |>\n",
    "    group_by(exang) |>\n",
    "    summarize(amount_of_individuals = n())\n",
    "\n",
    "cleveland_train_exang"
   ]
  },
  {
   "cell_type": "code",
   "execution_count": 15,
   "id": "db28a84e-8a85-4eb0-a25c-bb24986df6d0",
   "metadata": {},
   "outputs": [
    {
     "data": {
      "text/html": [
       "<table class=\"dataframe\">\n",
       "<caption>A tibble: 1 × 6</caption>\n",
       "<thead>\n",
       "\t<tr><th scope=col>age</th><th scope=col>sex</th><th scope=col>trestbps</th><th scope=col>chol</th><th scope=col>fbs</th><th scope=col>exang</th></tr>\n",
       "\t<tr><th scope=col>&lt;dbl&gt;</th><th scope=col>&lt;dbl&gt;</th><th scope=col>&lt;dbl&gt;</th><th scope=col>&lt;dbl&gt;</th><th scope=col>&lt;dbl&gt;</th><th scope=col>&lt;dbl&gt;</th></tr>\n",
       "</thead>\n",
       "<tbody>\n",
       "\t<tr><td>54.65333</td><td>0.6666667</td><td>130.96</td><td>247.8133</td><td>0.16</td><td>0.2755556</td></tr>\n",
       "</tbody>\n",
       "</table>\n"
      ],
      "text/latex": [
       "A tibble: 1 × 6\n",
       "\\begin{tabular}{llllll}\n",
       " age & sex & trestbps & chol & fbs & exang\\\\\n",
       " <dbl> & <dbl> & <dbl> & <dbl> & <dbl> & <dbl>\\\\\n",
       "\\hline\n",
       "\t 54.65333 & 0.6666667 & 130.96 & 247.8133 & 0.16 & 0.2755556\\\\\n",
       "\\end{tabular}\n"
      ],
      "text/markdown": [
       "\n",
       "A tibble: 1 × 6\n",
       "\n",
       "| age &lt;dbl&gt; | sex &lt;dbl&gt; | trestbps &lt;dbl&gt; | chol &lt;dbl&gt; | fbs &lt;dbl&gt; | exang &lt;dbl&gt; |\n",
       "|---|---|---|---|---|---|\n",
       "| 54.65333 | 0.6666667 | 130.96 | 247.8133 | 0.16 | 0.2755556 |\n",
       "\n"
      ],
      "text/plain": [
       "  age      sex       trestbps chol     fbs  exang    \n",
       "1 54.65333 0.6666667 130.96   247.8133 0.16 0.2755556"
      ]
     },
     "metadata": {},
     "output_type": "display_data"
    }
   ],
   "source": [
    "# Table of means of the predictor variables we plan to use in our analysis\n",
    "cleveland_train_means <- cleveland_training |>\n",
    "    select(-num) |>\n",
    "    map_df(mean)\n",
    "\n",
    "cleveland_train_means"
   ]
  },
  {
   "cell_type": "code",
   "execution_count": 27,
   "id": "3d020f77-4790-43cb-99c5-e478ad7ecea6",
   "metadata": {},
   "outputs": [
    {
     "name": "stderr",
     "output_type": "stream",
     "text": [
      "`stat_bin()` using `bins = 30`. Pick better value with `binwidth`.\n",
      "\n"
     ]
    },
    {
     "data": {
      "image/png": "[encoded data removed]",
      "text/plain": [
       "plot without title"
      ]
     },
     "metadata": {
      "image/png": {
       "height": 420,
       "width": 480
      }
     },
     "output_type": "display_data"
    },
    {
     "name": "stderr",
     "output_type": "stream",
     "text": [
      "`stat_bin()` using `bins = 30`. Pick better value with `binwidth`.\n",
      "\n"
     ]
    },
    {
     "data": {
      "image/png": "[encoded data removed]",
      "text/plain": [
       "plot without title"
      ]
     },
     "metadata": {
      "image/png": {
       "height": 420,
       "width": 480
      }
     },
     "output_type": "display_data"
    },
    {
     "data": {
      "image/png": "[encoded data removed]",
      "text/plain": [
       "plot without title"
      ]
     },
     "metadata": {
      "image/png": {
       "height": 420,
       "width": 480
      }
     },
     "output_type": "display_data"
    }
   ],
   "source": [
    "# histograms of non-binary variables\n",
    "options(repr.plot.height = 7, repr.plot.width = 8)\n",
    "\n",
    "# distribution of age\n",
    "age_dist <- cleveland_training |>\n",
    "    ggplot(aes(x = age)) +\n",
    "    geom_histogram(bins = 20) +\n",
    "    labs(x = \"Age (years)\", y = \"Proportion of Individuals\") +\n",
    "    ggtitle(\"Distribution of Ages of Individuals in the Data Set\") +\n",
    "    theme(text = element_text(size = 18))\n",
    "age_dist\n",
    "\n",
    "# distribution of trestbps\n",
    "trestbps_dist <- cleveland_training |>\n",
    "    ggplot(aes(x = trestbps)) +\n",
    "    geom_histogram() + ############################diff bin width?\n",
    "    labs(x = \"Resting Blood Pressure (mm Hg)\", y = \"Proportion of Individuals\") +\n",
    "    ggtitle(\"Distribution of Resting Blood Pressure of Individuals in the Data Set\") +\n",
    "    theme(text = element_text(size = 18))\n",
    "trestbps_dist\n",
    "\n",
    "# distribution of chol\n",
    "chol_dist <- cleveland_training |>\n",
    "    ggplot(aes(x = chol)) +\n",
    "    geom_histogram() + ############################diff bin width?\n",
    "    labs(x = \"Serum Cholestoral Level (mg/dl)\", y = \"Proportion of Individuals\") +\n",
    "    ggtitle(\"Distribution of Cholestoral Level of Individuals in the Data Set\") +\n",
    "    theme(text = element_text(size = 18))\n",
    "chol_dist"
   ]
  },
  {
   "cell_type": "markdown",
   "id": "e795832f-0411-4cf5-aa75-e5e70c26a54e",
   "metadata": {},
   "source": [
    "## Methods"
   ]
  },
  {
   "cell_type": "markdown",
   "id": "2d1f086f-9204-403b-aa9b-bc235d0bab55",
   "metadata": {},
   "source": [
    "## Expected Outcomes and Significance"
   ]
  },
  {
   "cell_type": "markdown",
   "id": "c3b9e553-c451-4640-b039-95a0937e1dc4",
   "metadata": {},
   "source": [
    "**What do you expect to find?**\n",
    "\n",
    "Within this research, we expect to find a correlation between the variables we are testing for and an increased risk of heart disease. Specifically, age, sex, resting blood pressure, cholesterol, fasting blood sugar, and susceptibility to exercise-induced anginas would correlate with a person's probability of contracting heart diseases. \n",
    "\n",
    "**What impact could such findings have?**\n",
    "\n",
    "Our findings could help those in the medical field better predict the likelihood of heart disease within their patients based on certain variables we are measuring. It could further indicate specific characteristics that would increase their chances of contracting a heart disease to individuals. \n",
    "\n",
    "**What future questions could this lead to?**\n",
    "\n",
    "Our research will examine the correlation between these variables and the probability of contracting any heart disease. However, further research could be done surrounding types of heart diseases that models could predict and a combination of variables that could lead to a greater risk of heart diseases. \n",
    "\n"
   ]
  }
 ],
 "metadata": {
  "kernelspec": {
   "display_name": "R",
   "language": "R",
   "name": "ir"
  },
  "language_info": {
   "codemirror_mode": "r",
   "file_extension": ".r",
   "mimetype": "text/x-r-source",
   "name": "R",
   "pygments_lexer": "r",
   "version": "4.1.3"
  }
 },
 "nbformat": 4,
 "nbformat_minor": 5
}
